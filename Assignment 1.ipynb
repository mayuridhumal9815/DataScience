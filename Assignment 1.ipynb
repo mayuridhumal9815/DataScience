{
 "cells": [
  {
   "cell_type": "code",
   "execution_count": 3,
   "id": "2678c795",
   "metadata": {},
   "outputs": [],
   "source": [
    "import pandas as pd\n",
    "import numpy as np"
   ]
  },
  {
   "cell_type": "code",
   "execution_count": 29,
   "id": "f853c30d",
   "metadata": {},
   "outputs": [],
   "source": [
    "df=pd.read_csv(\"Q7.csv\")\n"
   ]
  },
  {
   "cell_type": "code",
   "execution_count": 25,
   "id": "54a08881",
   "metadata": {
    "scrolled": true
   },
   "outputs": [
    {
     "name": "stdout",
     "output_type": "stream",
     "text": [
      "For Points\n",
      "Mean= 3.5965625000000006\n",
      "Median= 3.6950000000000003\n",
      "Mode= 0    3.07\n",
      "1    3.92\n",
      "dtype: float64\n",
      "Variance= 0.28588135080645166\n",
      "Std= 0.5346787360709716\n",
      "Max= 4.93\n",
      "Min= 2.76\n",
      "Range= 2.17\n"
     ]
    }
   ],
   "source": [
    "print(\"For Points\")\n",
    "print(\"Mean=\",df['Points'].mean())\n",
    "print(\"Median=\",df['Points'].median())\n",
    "print(\"Mode=\",df['Points'].mode())\n",
    "print(\"Variance=\",df['Points'].var())\n",
    "print(\"Std=\",df['Points'].std())\n",
    "print(\"Max=\",df['Points'].max())\n",
    "print(\"Min=\",df['Points'].min())\n",
    "print(\"Range=\",df['Points'].max()-df['Points'].min())"
   ]
  },
  {
   "cell_type": "code",
   "execution_count": 26,
   "id": "0fd2a54d",
   "metadata": {},
   "outputs": [
    {
     "name": "stdout",
     "output_type": "stream",
     "text": [
      "For Score\n",
      "Mean= 3.2172499999999995\n",
      "Median= 3.325\n",
      "Mode= 0    3.44\n",
      "dtype: float64\n",
      "Variance= 0.9573789677419356\n",
      "Std= 0.9784574429896967\n",
      "Max= 5.424\n",
      "Min= 1.513\n",
      "Range= 3.9110000000000005\n"
     ]
    }
   ],
   "source": [
    "print(\"For Score\")\n",
    "print(\"Mean=\",df['Score'].mean())\n",
    "print(\"Median=\",df['Score'].median())\n",
    "print(\"Mode=\",df['Score'].mode())\n",
    "print(\"Variance=\",df['Score'].var())\n",
    "print(\"Std=\",df['Score'].std())\n",
    "print(\"Max=\",df['Score'].max())\n",
    "print(\"Min=\",df['Score'].min())\n",
    "print(\"Range=\",df['Score'].max()-df['Score'].min())"
   ]
  },
  {
   "cell_type": "code",
   "execution_count": 28,
   "id": "d0e66e29",
   "metadata": {},
   "outputs": [
    {
     "name": "stdout",
     "output_type": "stream",
     "text": [
      "For Weigh\n",
      "Mean= 17.848750000000003\n",
      "Median= 17.71\n",
      "Mode= 0    17.02\n",
      "1    18.90\n",
      "dtype: float64\n",
      "Variance= 3.193166129032258\n",
      "Std= 1.7869432360968431\n",
      "Max= 22.9\n",
      "Min= 14.5\n",
      "Range= 8.399999999999999\n"
     ]
    }
   ],
   "source": [
    "print(\"For Weigh\")\n",
    "print(\"Mean=\",df['Weigh'].mean())\n",
    "print(\"Median=\",df['Weigh'].median())\n",
    "print(\"Mode=\",df['Weigh'].mode())\n",
    "print(\"Variance=\",df['Weigh'].var())\n",
    "print(\"Std=\",df['Weigh'].std())\n",
    "print(\"Max=\",df['Weigh'].max())\n",
    "print(\"Min=\",df['Weigh'].min())\n",
    "print(\"Range=\",df['Weigh'].max()-df['Weigh'].min())"
   ]
  },
  {
   "cell_type": "code",
   "execution_count": 35,
   "id": "319407c2",
   "metadata": {},
   "outputs": [],
   "source": [
    "d=pd.read_csv(\"Q9_a.csv\")\n"
   ]
  },
  {
   "cell_type": "code",
   "execution_count": 36,
   "id": "d2c3c966",
   "metadata": {},
   "outputs": [
    {
     "name": "stdout",
     "output_type": "stream",
     "text": [
      "For Speed\n",
      "Skewness -0.11750986144663393\n",
      "Kurtosis -0.5089944204057617\n"
     ]
    }
   ],
   "source": [
    "print(\"For Speed\")\n",
    "print(\"Skewness\",d['speed'].skew())\n",
    "print(\"Kurtosis\",d['speed'].kurt())"
   ]
  },
  {
   "cell_type": "code",
   "execution_count": 34,
   "id": "1e726c38",
   "metadata": {},
   "outputs": [
    {
     "name": "stdout",
     "output_type": "stream",
     "text": [
      "For dist\n",
      "Skewness 0.8068949601674215\n",
      "Kurtosis 0.4050525816795765\n"
     ]
    }
   ],
   "source": [
    "print(\"For dist\")\n",
    "print(\"Skewness\",d['dist'].skew())\n",
    "print(\"Kurtosis\",d['dist'].kurt())"
   ]
  },
  {
   "cell_type": "code",
   "execution_count": 40,
   "id": "0713a926",
   "metadata": {},
   "outputs": [],
   "source": [
    "a=pd.read_csv(\"Q9_b.csv\")\n"
   ]
  },
  {
   "cell_type": "code",
   "execution_count": 39,
   "id": "8d48be2a",
   "metadata": {},
   "outputs": [
    {
     "name": "stdout",
     "output_type": "stream",
     "text": [
      "For SP\n",
      "Skewness= 1.6114501961773586\n",
      "Kurtosis= 2.9773289437871835\n",
      "For WT\n",
      "Skewness= -0.6147533255357768\n",
      "Kurtosis= 0.9502914910300326\n"
     ]
    }
   ],
   "source": [
    "print(\"For SP\")\n",
    "print(\"Skewness=\",a['SP'].skew())\n",
    "print(\"Kurtosis=\",a['SP'].kurt())\n",
    "\n",
    "print(\"For WT\")\n",
    "print(\"Skewness=\",a['WT'].skew())\n",
    "print(\"Kurtosis=\",a['WT'].kurt())"
   ]
  },
  {
   "cell_type": "code",
   "execution_count": 5,
   "id": "039fbfdc",
   "metadata": {},
   "outputs": [],
   "source": [
    "import seaborn as sn\n",
    "from scipy import stats"
   ]
  },
  {
   "cell_type": "code",
   "execution_count": 50,
   "id": "090ecf3c",
   "metadata": {},
   "outputs": [
    {
     "name": "stdout",
     "output_type": "stream",
     "text": [
      "Avg wt for 94% CI= (134.8972576982382, 265.1027423017618)\n",
      "Avg wt for 98% CI= (122.72507172801117, 277.2749282719888)\n",
      "Avg wt for 96% CI= (130.20952648800085, 269.79047351199915)\n"
     ]
    }
   ],
   "source": [
    "print(\"Avg wt for 94% CI=\",stats.t.interval(0.97,df=2999999,loc=200,scale=30))\n",
    "print(\"Avg wt for 98% CI=\",stats.t.interval(0.99,df=2999999,loc=200,scale=30))\n",
    "print(\"Avg wt for 96% CI=\",stats.t.interval(0.98,df=2999999,loc=200,scale=30))"
   ]
  },
  {
   "cell_type": "code",
   "execution_count": 71,
   "id": "124d1a9c",
   "metadata": {},
   "outputs": [
    {
     "data": {
      "text/plain": [
       "Value    object\n",
       "dtype: object"
      ]
     },
     "execution_count": 71,
     "metadata": {},
     "output_type": "execute_result"
    }
   ],
   "source": [
    "L={'Value':['34','36','36','38','38','39','39','40','40','41','41','41','41','42','42','45','49','56']}\n",
    "df=pd.DataFrame(L)\n",
    "df.dtypes\n"
   ]
  },
  {
   "cell_type": "code",
   "execution_count": 72,
   "id": "2fc66ae2",
   "metadata": {},
   "outputs": [
    {
     "data": {
      "text/plain": [
       "Value    float64\n",
       "dtype: object"
      ]
     },
     "execution_count": 72,
     "metadata": {},
     "output_type": "execute_result"
    }
   ],
   "source": [
    "df=df.astype('float')\n",
    "df.dtypes"
   ]
  },
  {
   "cell_type": "code",
   "execution_count": 73,
   "id": "2668feb4",
   "metadata": {},
   "outputs": [
    {
     "name": "stdout",
     "output_type": "stream",
     "text": [
      "Mean= Value    41.0\n",
      "dtype: float64\n",
      "Median= Value    40.5\n",
      "dtype: float64\n",
      "Variance= Value    25.529412\n",
      "dtype: float64\n",
      "Std= Value    5.052664\n",
      "dtype: float64\n"
     ]
    }
   ],
   "source": [
    "print(\"Mean=\",df.mean())\n",
    "print(\"Median=\",df.median())\n",
    "print(\"Variance=\",df.var())\n",
    "print(\"Std=\",df.std())"
   ]
  },
  {
   "cell_type": "code",
   "execution_count": 4,
   "id": "9ad5144f",
   "metadata": {},
   "outputs": [
    {
     "data": {
      "text/html": [
       "<div>\n",
       "<style scoped>\n",
       "    .dataframe tbody tr th:only-of-type {\n",
       "        vertical-align: middle;\n",
       "    }\n",
       "\n",
       "    .dataframe tbody tr th {\n",
       "        vertical-align: top;\n",
       "    }\n",
       "\n",
       "    .dataframe thead th {\n",
       "        text-align: right;\n",
       "    }\n",
       "</style>\n",
       "<table border=\"1\" class=\"dataframe\">\n",
       "  <thead>\n",
       "    <tr style=\"text-align: right;\">\n",
       "      <th></th>\n",
       "      <th>HP</th>\n",
       "      <th>MPG</th>\n",
       "      <th>VOL</th>\n",
       "      <th>SP</th>\n",
       "      <th>WT</th>\n",
       "    </tr>\n",
       "  </thead>\n",
       "  <tbody>\n",
       "    <tr>\n",
       "      <th>0</th>\n",
       "      <td>49</td>\n",
       "      <td>53.700681</td>\n",
       "      <td>89</td>\n",
       "      <td>104.185353</td>\n",
       "      <td>28.762059</td>\n",
       "    </tr>\n",
       "    <tr>\n",
       "      <th>1</th>\n",
       "      <td>55</td>\n",
       "      <td>50.013401</td>\n",
       "      <td>92</td>\n",
       "      <td>105.461264</td>\n",
       "      <td>30.466833</td>\n",
       "    </tr>\n",
       "    <tr>\n",
       "      <th>2</th>\n",
       "      <td>55</td>\n",
       "      <td>50.013401</td>\n",
       "      <td>92</td>\n",
       "      <td>105.461264</td>\n",
       "      <td>30.193597</td>\n",
       "    </tr>\n",
       "    <tr>\n",
       "      <th>3</th>\n",
       "      <td>70</td>\n",
       "      <td>45.696322</td>\n",
       "      <td>92</td>\n",
       "      <td>113.461264</td>\n",
       "      <td>30.632114</td>\n",
       "    </tr>\n",
       "    <tr>\n",
       "      <th>4</th>\n",
       "      <td>53</td>\n",
       "      <td>50.504232</td>\n",
       "      <td>92</td>\n",
       "      <td>104.461264</td>\n",
       "      <td>29.889149</td>\n",
       "    </tr>\n",
       "    <tr>\n",
       "      <th>...</th>\n",
       "      <td>...</td>\n",
       "      <td>...</td>\n",
       "      <td>...</td>\n",
       "      <td>...</td>\n",
       "      <td>...</td>\n",
       "    </tr>\n",
       "    <tr>\n",
       "      <th>76</th>\n",
       "      <td>322</td>\n",
       "      <td>36.900000</td>\n",
       "      <td>50</td>\n",
       "      <td>169.598513</td>\n",
       "      <td>16.132947</td>\n",
       "    </tr>\n",
       "    <tr>\n",
       "      <th>77</th>\n",
       "      <td>238</td>\n",
       "      <td>19.197888</td>\n",
       "      <td>115</td>\n",
       "      <td>150.576579</td>\n",
       "      <td>37.923113</td>\n",
       "    </tr>\n",
       "    <tr>\n",
       "      <th>78</th>\n",
       "      <td>263</td>\n",
       "      <td>34.000000</td>\n",
       "      <td>50</td>\n",
       "      <td>151.598513</td>\n",
       "      <td>15.769625</td>\n",
       "    </tr>\n",
       "    <tr>\n",
       "      <th>79</th>\n",
       "      <td>295</td>\n",
       "      <td>19.833733</td>\n",
       "      <td>119</td>\n",
       "      <td>167.944460</td>\n",
       "      <td>39.423099</td>\n",
       "    </tr>\n",
       "    <tr>\n",
       "      <th>80</th>\n",
       "      <td>236</td>\n",
       "      <td>12.101263</td>\n",
       "      <td>107</td>\n",
       "      <td>139.840817</td>\n",
       "      <td>34.948615</td>\n",
       "    </tr>\n",
       "  </tbody>\n",
       "</table>\n",
       "<p>81 rows × 5 columns</p>\n",
       "</div>"
      ],
      "text/plain": [
       "     HP        MPG  VOL          SP         WT\n",
       "0    49  53.700681   89  104.185353  28.762059\n",
       "1    55  50.013401   92  105.461264  30.466833\n",
       "2    55  50.013401   92  105.461264  30.193597\n",
       "3    70  45.696322   92  113.461264  30.632114\n",
       "4    53  50.504232   92  104.461264  29.889149\n",
       "..  ...        ...  ...         ...        ...\n",
       "76  322  36.900000   50  169.598513  16.132947\n",
       "77  238  19.197888  115  150.576579  37.923113\n",
       "78  263  34.000000   50  151.598513  15.769625\n",
       "79  295  19.833733  119  167.944460  39.423099\n",
       "80  236  12.101263  107  139.840817  34.948615\n",
       "\n",
       "[81 rows x 5 columns]"
      ]
     },
     "execution_count": 4,
     "metadata": {},
     "output_type": "execute_result"
    }
   ],
   "source": [
    "c=pd.read_csv(\"Cars.csv\")\n",
    "c"
   ]
  },
  {
   "cell_type": "code",
   "execution_count": 10,
   "id": "52c2e21c",
   "metadata": {},
   "outputs": [
    {
     "data": {
      "text/plain": [
       "0.6919327518061481"
      ]
     },
     "execution_count": 10,
     "metadata": {},
     "output_type": "execute_result"
    }
   ],
   "source": [
    "#to find probability mpg<40\n",
    "stats.norm.cdf(39,c['MPG'].mean(),c['MPG'].std())\n"
   ]
  },
  {
   "cell_type": "code",
   "execution_count": 9,
   "id": "580cde8a",
   "metadata": {},
   "outputs": [
    {
     "data": {
      "text/plain": [
       "0.6919327518061481"
      ]
     },
     "execution_count": 9,
     "metadata": {},
     "output_type": "execute_result"
    }
   ],
   "source": [
    "#to find probability mpg<40\n",
    "stats.norm.cdf(39,loc=c['MPG'].mean(),scale=c['MPG'].std())"
   ]
  },
  {
   "cell_type": "code",
   "execution_count": 13,
   "id": "d0a0a8bd",
   "metadata": {},
   "outputs": [
    {
     "data": {
      "text/plain": [
       "0.3475939251582705"
      ]
     },
     "execution_count": 13,
     "metadata": {},
     "output_type": "execute_result"
    }
   ],
   "source": [
    "#to find probability mpg>38\n",
    "1-stats.norm.cdf(38,loc=c['MPG'].mean(),scale=c['MPG'].std())"
   ]
  },
  {
   "cell_type": "code",
   "execution_count": 14,
   "id": "0fe45156",
   "metadata": {},
   "outputs": [
    {
     "data": {
      "text/plain": [
       "0.887682401722877"
      ]
     },
     "execution_count": 14,
     "metadata": {},
     "output_type": "execute_result"
    }
   ],
   "source": [
    "#to find probability 20<mpg<50\n",
    "stats.norm.cdf(49,loc=c['MPG'].mean(),scale=c['MPG'].std())-stats.norm.cdf(20,loc=c['MPG'].mean(),scale=c['MPG'].std())"
   ]
  },
  {
   "cell_type": "code",
   "execution_count": 18,
   "id": "b7aec551",
   "metadata": {},
   "outputs": [
    {
     "data": {
      "text/plain": [
       "0    29.629936\n",
       "dtype: float64"
      ]
     },
     "execution_count": 18,
     "metadata": {},
     "output_type": "execute_result"
    }
   ],
   "source": [
    "c['MPG'].mode()"
   ]
  },
  {
   "cell_type": "code",
   "execution_count": 16,
   "id": "85c63a93",
   "metadata": {},
   "outputs": [
    {
     "data": {
      "text/plain": [
       "9.131444731795982"
      ]
     },
     "execution_count": 16,
     "metadata": {},
     "output_type": "execute_result"
    }
   ],
   "source": [
    "c['MPG'].std()"
   ]
  },
  {
   "cell_type": "code",
   "execution_count": 20,
   "id": "217e4db4",
   "metadata": {},
   "outputs": [
    {
     "data": {
      "text/html": [
       "<div>\n",
       "<style scoped>\n",
       "    .dataframe tbody tr th:only-of-type {\n",
       "        vertical-align: middle;\n",
       "    }\n",
       "\n",
       "    .dataframe tbody tr th {\n",
       "        vertical-align: top;\n",
       "    }\n",
       "\n",
       "    .dataframe thead th {\n",
       "        text-align: right;\n",
       "    }\n",
       "</style>\n",
       "<table border=\"1\" class=\"dataframe\">\n",
       "  <thead>\n",
       "    <tr style=\"text-align: right;\">\n",
       "      <th></th>\n",
       "      <th>Waist</th>\n",
       "      <th>AT</th>\n",
       "    </tr>\n",
       "  </thead>\n",
       "  <tbody>\n",
       "    <tr>\n",
       "      <th>0</th>\n",
       "      <td>74.75</td>\n",
       "      <td>25.72</td>\n",
       "    </tr>\n",
       "    <tr>\n",
       "      <th>1</th>\n",
       "      <td>72.60</td>\n",
       "      <td>25.89</td>\n",
       "    </tr>\n",
       "    <tr>\n",
       "      <th>2</th>\n",
       "      <td>81.80</td>\n",
       "      <td>42.60</td>\n",
       "    </tr>\n",
       "    <tr>\n",
       "      <th>3</th>\n",
       "      <td>83.95</td>\n",
       "      <td>42.80</td>\n",
       "    </tr>\n",
       "    <tr>\n",
       "      <th>4</th>\n",
       "      <td>74.65</td>\n",
       "      <td>29.84</td>\n",
       "    </tr>\n",
       "    <tr>\n",
       "      <th>...</th>\n",
       "      <td>...</td>\n",
       "      <td>...</td>\n",
       "    </tr>\n",
       "    <tr>\n",
       "      <th>104</th>\n",
       "      <td>100.10</td>\n",
       "      <td>124.00</td>\n",
       "    </tr>\n",
       "    <tr>\n",
       "      <th>105</th>\n",
       "      <td>93.30</td>\n",
       "      <td>62.20</td>\n",
       "    </tr>\n",
       "    <tr>\n",
       "      <th>106</th>\n",
       "      <td>101.80</td>\n",
       "      <td>133.00</td>\n",
       "    </tr>\n",
       "    <tr>\n",
       "      <th>107</th>\n",
       "      <td>107.90</td>\n",
       "      <td>208.00</td>\n",
       "    </tr>\n",
       "    <tr>\n",
       "      <th>108</th>\n",
       "      <td>108.50</td>\n",
       "      <td>208.00</td>\n",
       "    </tr>\n",
       "  </tbody>\n",
       "</table>\n",
       "<p>109 rows × 2 columns</p>\n",
       "</div>"
      ],
      "text/plain": [
       "      Waist      AT\n",
       "0     74.75   25.72\n",
       "1     72.60   25.89\n",
       "2     81.80   42.60\n",
       "3     83.95   42.80\n",
       "4     74.65   29.84\n",
       "..      ...     ...\n",
       "104  100.10  124.00\n",
       "105   93.30   62.20\n",
       "106  101.80  133.00\n",
       "107  107.90  208.00\n",
       "108  108.50  208.00\n",
       "\n",
       "[109 rows x 2 columns]"
      ]
     },
     "execution_count": 20,
     "metadata": {},
     "output_type": "execute_result"
    }
   ],
   "source": [
    "x=pd.read_csv(\"wc-at.csv\")\n",
    "x"
   ]
  },
  {
   "cell_type": "code",
   "execution_count": 27,
   "id": "573e17d9",
   "metadata": {},
   "outputs": [
    {
     "data": {
      "text/plain": [
       "101.89403669724771"
      ]
     },
     "execution_count": 27,
     "metadata": {},
     "output_type": "execute_result"
    }
   ],
   "source": [
    "x['AT'].mean()"
   ]
  },
  {
   "cell_type": "code",
   "execution_count": 29,
   "id": "95633709",
   "metadata": {},
   "outputs": [
    {
     "data": {
      "text/plain": [
       "1.6448536269514722"
      ]
     },
     "execution_count": 29,
     "metadata": {},
     "output_type": "execute_result"
    }
   ],
   "source": [
    "#Calculate the Z scores of  90% confidence interval\n",
    "stats.norm.ppf(0.95)"
   ]
  },
  {
   "cell_type": "code",
   "execution_count": 30,
   "id": "4a931461",
   "metadata": {},
   "outputs": [
    {
     "data": {
      "text/plain": [
       "1.8807936081512509"
      ]
     },
     "execution_count": 30,
     "metadata": {},
     "output_type": "execute_result"
    }
   ],
   "source": [
    "#Calculate the Z scores of  94% confidence interval\n",
    "stats.norm.ppf(0.97)"
   ]
  },
  {
   "cell_type": "code",
   "execution_count": 31,
   "id": "4e8459a2",
   "metadata": {},
   "outputs": [
    {
     "data": {
      "text/plain": [
       "0.8416212335729143"
      ]
     },
     "execution_count": 31,
     "metadata": {},
     "output_type": "execute_result"
    }
   ],
   "source": [
    "#Calculate the Z scores of  80% confidence interval\n",
    "stats.norm.ppf(0.8)"
   ]
  },
  {
   "cell_type": "code",
   "execution_count": 32,
   "id": "8deddd1a",
   "metadata": {},
   "outputs": [
    {
     "data": {
      "text/plain": [
       "0.8303570471638759"
      ]
     },
     "execution_count": 32,
     "metadata": {},
     "output_type": "execute_result"
    }
   ],
   "source": [
    "stats.t.cdf(0.975,df=24)"
   ]
  },
  {
   "cell_type": "code",
   "execution_count": 33,
   "id": "321c2a62",
   "metadata": {},
   "outputs": [
    {
     "data": {
      "text/plain": [
       "2.0638985616280205"
      ]
     },
     "execution_count": 33,
     "metadata": {},
     "output_type": "execute_result"
    }
   ],
   "source": [
    "#Calculate the t scores of 95% confidence interval with sample size 25\n",
    "stats.t.ppf(0.975,df=24)"
   ]
  },
  {
   "cell_type": "code",
   "execution_count": null,
   "id": "6f7215be",
   "metadata": {},
   "outputs": [],
   "source": []
  },
  {
   "cell_type": "code",
   "execution_count": null,
   "id": "6aaee864",
   "metadata": {},
   "outputs": [],
   "source": []
  },
  {
   "cell_type": "code",
   "execution_count": 40,
   "id": "73fc5868",
   "metadata": {},
   "outputs": [
    {
     "data": {
      "text/plain": [
       "(38.775435166060845, 481.2245648339393)"
      ]
     },
     "execution_count": 40,
     "metadata": {},
     "output_type": "execute_result"
    }
   ],
   "source": [
    "stats.t.interval(0.975,df=17,loc=260,scale=90)"
   ]
  },
  {
   "cell_type": "code",
   "execution_count": 38,
   "id": "012a36ed",
   "metadata": {},
   "outputs": [
    {
     "data": {
      "text/plain": [
       "0.5"
      ]
     },
     "execution_count": 38,
     "metadata": {},
     "output_type": "execute_result"
    }
   ],
   "source": [
    "stats.norm.cdf(260,loc=260,scale=90)"
   ]
  },
  {
   "cell_type": "code",
   "execution_count": 45,
   "id": "4ab71bd2",
   "metadata": {},
   "outputs": [
    {
     "data": {
      "text/plain": [
       "449.88340200498624"
      ]
     },
     "execution_count": 45,
     "metadata": {},
     "output_type": "execute_result"
    }
   ],
   "source": [
    "stats.t.ppf(0.975,df=17,loc=260,scale=90)"
   ]
  },
  {
   "cell_type": "code",
   "execution_count": 44,
   "id": "6312d746",
   "metadata": {},
   "outputs": [
    {
     "ename": "NameError",
     "evalue": "name 'pt' is not defined",
     "output_type": "error",
     "traceback": [
      "\u001b[1;31m---------------------------------------------------------------------------\u001b[0m",
      "\u001b[1;31mNameError\u001b[0m                                 Traceback (most recent call last)",
      "\u001b[1;32m<ipython-input-44-2577fb44b83b>\u001b[0m in \u001b[0;36m<module>\u001b[1;34m\u001b[0m\n\u001b[1;32m----> 1\u001b[1;33m \u001b[0mpt\u001b[0m\u001b[1;33m(\u001b[0m\u001b[0mtscore\u001b[0m\u001b[1;33m=\u001b[0m\u001b[1;36m2.1\u001b[0m\u001b[1;33m,\u001b[0m\u001b[0mdf\u001b[0m\u001b[1;33m=\u001b[0m\u001b[1;36m17\u001b[0m\u001b[1;33m)\u001b[0m\u001b[1;33m\u001b[0m\u001b[1;33m\u001b[0m\u001b[0m\n\u001b[0m",
      "\u001b[1;31mNameError\u001b[0m: name 'pt' is not defined"
     ]
    }
   ],
   "source": []
  },
  {
   "cell_type": "code",
   "execution_count": null,
   "id": "45b821ec",
   "metadata": {},
   "outputs": [],
   "source": []
  }
 ],
 "metadata": {
  "kernelspec": {
   "display_name": "Python 3",
   "language": "python",
   "name": "python3"
  },
  "language_info": {
   "codemirror_mode": {
    "name": "ipython",
    "version": 3
   },
   "file_extension": ".py",
   "mimetype": "text/x-python",
   "name": "python",
   "nbconvert_exporter": "python",
   "pygments_lexer": "ipython3",
   "version": "3.8.8"
  }
 },
 "nbformat": 4,
 "nbformat_minor": 5
}
